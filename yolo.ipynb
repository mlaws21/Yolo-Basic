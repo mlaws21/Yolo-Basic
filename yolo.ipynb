{
 "cells": [
  {
   "cell_type": "markdown",
   "metadata": {},
   "source": [
    "# **Implementing YOLO v1 in PyTorch**"
   ]
  },
  {
   "cell_type": "markdown",
   "metadata": {},
   "source": [
    "<div>\n",
    "     <center><img src=\"./img/predictions.jpg\" width=\"750\"/> </center>\n",
    "</div>"
   ]
  },
  {
   "cell_type": "markdown",
   "metadata": {},
   "source": [
    "## **1. What is YOLO?**"
   ]
  },
  {
   "attachments": {},
   "cell_type": "markdown",
   "metadata": {},
   "source": [
    "<div>\n",
    "     <center><img src=\"./img/yolo.png\" width=\"400\"/> </center>\n",
    "</div>\n",
    "\n",
    "Developed in 2015 by Redmon et. al., YOLO (You Only Look Once) is a deep learning architecture which greatly improved the efficiency of image detection networks. The goal is simply: to detect objects appearing in an image, with their corresponding bounding boxes (see above image). Previous networks would train separately for category detection (dog, bicyle, laptop, e.g.) and bounding box detection (where an object appears in an image), going back and forth between the two to refine predictions. Redmon et. al. proposed a novel method in which bounding boxes and categories were predicted together in one pass through a single model, hence the model's name *You Only Look Once.*\n",
    "\n",
    "#### **Why is it an important problem? (SAM)**\n",
    "\n",
    "\n",
    "#### **Main contributions of YOLO (MATT)**\n",
    "\n",
    "YOLO's main contribution to the study of object recognition is its speed while maintaining correctness. As touched on above by calculating both the bounding boxes and the categorization in a single pass, YOLO completely outperformed the then current the state-of-the-art (Fast R-CNN). YOLO's original code is implemented entirely in C which also contributed to the immense speed up. Additionally compared to Fast R-CNN, YOLO made fewer background mistakes and was able to augment Fast R-CNN to produce an improved mAP score. Overall YOLO was the first object detection software that could run in real time with mostly correct predictions. Running at 45 frames per second with a corrisponding mAP score of 63.4, YOLO exceeds the mAP of other real time detectors by over 2 times; and compared to non-real-time detects only loses ~10 mAP."
   ]
  },
  {
   "cell_type": "markdown",
   "metadata": {},
   "source": [
    "## **2. YOLO v1 at a High Level**\n"
   ]
  },
  {
   "attachments": {},
   "cell_type": "markdown",
   "metadata": {},
   "source": [
    "an intro\n",
    "\n",
    "#### **Data and Importing (SAM)**\n",
    "\n",
    "TODO FIX THIS: THIS should talk about the data that YOLO paper uses\n",
    "For our training data input, we resize each image to 112px by 112px and apply a greyscale filter. We take the pixel values in a 112x112 matrix and scale the values between -1 and 1. We take all of these scaled image matrices and feed them into our dataloader.\n",
    "<div>\n",
    "     <center><img src=\"./img/imageinput.png\" width=\"750\"/> </center>\n",
    "</div>\n",
    "\n",
    "#### **Architecture (MATT)**\n",
    "\n",
    "<div>\n",
    "     <center><img src=\"./img/arch.png\" width=\"750\"/> </center>\n",
    "</div>\n",
    "\n",
    "YOLO's architecture consists of 24 convolutional layers followed by 2 fullin connected layers detailed above. The 1x1 convolutional layers are in place to reduce the feature space from preceding layers. This may be confusing at first as a 1x1 convolution with a stride of 1 just copies the image however; roughly speaking, different features of the input can be \"learned\" by different kernels of the 1x1 layer thus reducing the feature space. \n",
    "\n",
    "Object detection is a hard task, and at this point had not been achieved in real time. In order to simplify the task YOLO was first pre-trained to recognize images. For pre-training only the first 20 layers were trained followed by an average-pooling and fully connected layer --- these additional layer were truncated in the actual YOLO model.Using the ImageNet 2012 data the model was trained to recognize images from one of 20 catagories. After a week of training, the model achieved a top-5 accuracy of 88\\% (meaning each of the network contained the correct answer in the top 5 catagories it predicted 88\\% of the time).\n",
    "\n",
    "The intuitive reasoning for YOLO's pre-training can be explained with a simple example. Say I gave you an image and asked you to find every fish in the image and draw a box around it (this is essentially the YOLO task). You could probably do it --- but say you didn't know what a fish actually looked like, the task becomes significantly harder. The same is true with YOLO, by teaching it how to recognize images in a well defined dataset of ImageNet it will help make predicting bounding boxes possible.\n",
    "\n",
    "Up until the last layer, YOLO is just a standard CNN. In each layer of the CNN, it learns something about the pixel and the surrounding pixels in order to make its final prediction. To prevent overfitting a dropout layer with p = 0.5 is added after the first connected layer. Additionally YOLO randomly augments the data by changing the size, exposure and saturation to help with overfitting. To enforce non-linearity the leaky rectified linear unit (leaky ReLU) activation function is used with the parameter 0.1 following each layer besides the final layer. The final layer is special and uses a linear activation.\n",
    "\n",
    "The final prediction of YOLO is where the novelty of the model comes from. The last dense layer is reshaped into a SxSxC+(B*5) tensor where S is the chosen grid size, C is the number of catagories and B is number of boxes predicted in each grid square. YOLO uses a grid size of 7x7 and 2 boxes per square to predict across 20 catagories resulting in an output of size 7x7x30. An example is seen in the image below. This approach allows both the catagory and the bounding boxes to be predicted simultaniously for fast unified detection. Working with this output is less straightforward then something like a series of probability weights or a single value; however YOLO provides a unique loss function to handle this. \n",
    "\n",
    "\n",
    "\n",
    "<div>\n",
    "     <center><img src=\"./img/grid.png\" width=\"750\"/> </center>\n",
    "</div>\n",
    "\n",
    "#### **Loss (SAM)**\n",
    "\n",
    "YOLO v1 implements a custom loss function, described in their paper in the following equation:\n",
    "\n",
    "<div>\n",
    "     <center><img src=\"./img/lossfunction.png\" width=\"750\"/> </center>\n",
    "</div>\n",
    "\n",
    "This may look overwhelming at first, but it's not overly complicated. The loss function takes the SSE across the predicted $(x,y)$ box midpoint, $(h,w)$ box dimensions, and the set of $c_i$ category probabilities. The first and second line compute SSE loss for the midpoint coordinates and dimensions, the next two lines compute the SSE loss for object confidence (whether an object appears in the box), and the last line computes the SSE for category probability predictions.\n",
    "\n",
    "**Some important symbols to note:**\n",
    "\n",
    "$𝟙_{i}^{\\textrm{obj}}$ indicates whether an object appears in cell $i$\n",
    "\n",
    "$𝟙_{ij}^{\\textrm{obj}}$ indicates whether the $j^{\\textrm{th}}$ bounding box predictor in cell $i$ is \"responsible\" for that prediction (highest intersection over union, or IOU)\n",
    "\n",
    "$\\lambda_{\\textrm{coord}}$ is a learning parameter set to 5\n",
    "\n",
<<<<<<< HEAD
    "$\\lambda_{\\textrm{noobj}}$ is a learning parameter set to 0.5"
=======
    "$\\lambda_{\\textrm{noobj}}$ is a learning parameter set to 0.5\n",
    "\n",
    "\n",
    "[TODO this should be below, also we dont define it as a layer anymore just a function]\n",
    "[TODO mention IOU]\n",
    "To implement this loss function, we first have to define a custom loss function in torch. We create a new `torch.nn.Module` for our custom loss, which we will call `YOLOLoss`:\n",
    "\n",
    "We then define a `forward` function for computing the loss. The full loss function, including the extensive `forward` function, can be found in `loss.py`. We borrow most of this code from https://github.com/aladdinpersson, as while it is not a conceptually difficult loss function, the actual code implementation with torch functions becomes a bit unweildy."
   ]
  },
  {
   "attachments": {},
   "cell_type": "markdown",
   "metadata": {},
   "source": [
    "\n",
    "\n",
    "#### **Evaluation (MATT)**\n",
    "\n",
    "There are two main metrics that YOLO evaluates itself on: speed and mean average precision (mAP). Since YOLO is a real time detection tool its speed in measured by how many image frames can it predict per second (fps). This metric is important because this is the fps it can accurately translate video at. YOLO is able to translate at 45fps, significantly faster than any detector with similar mAP scores. For reference the human eye on average can only see between 30fps and 60fps, thus 45fps is plenty fast for real time translation. Fast YOLO, a smaller version translates at 155fps for a moderate hit to mAP.\n",
    "\n",
    "The second evaluation metric is mAP. Essentially, mAP is a measure of correctness of the prediction. Generally speaking mAP refers to the area under the precision-recall curve. To understand this first we need to understand precision and recall. Precision measures of all positive predicts the model made how many were correct, i.e. $\\frac{\\text{correct positive predictions}}{\\text{all positive predictions}}$ where in our case a \"positive prediction\" refers to predicting an object. Recall measures of all predictions how many were positive and correct i.e. $\\frac{\\text{correct positive predictions}}{\\text{all predictions}}$. Each of these metrics on there own are not particularly useful as predicting positive for all instances gets a perfect recall and predicting a small subset of easy to predict images gets perfect precision. However, if we can encapsulate both metrics into one then we can optimize it. We do this using the precison-recall curve which plots precison as a function of recall. To evaluate then all we have to do is take the integral of the precison-recall curve. \n",
    "\n",
    "For object detection the input to the recall and loss functions is whether or not the box is correct. To determine that we measure the Intersection Over Union (IOU) between the predicted boxes and the ground truth boxes in the image. If the IOU is over some threshold we declare that the box is correct otherwise we declare that it is incorrect. The threshold in this case is dependent on how \"good\" we want the boxes to be. The YOLO paper doesn't say what threshold they use, but other implementations use 80\\%.\n",
    "\n",
    "For its speed YOLO significantly outperforms the state-of-the-art mAP scores only losing to Fast R-CNN, and Faster R-CNN VGG-16 that run at 0.5 and 7fps respectively. \n",
    "\n",
    "Below we provide a table that compares the mAP and fps of different object detectors.  \n",
    "\n",
    "<div>\n",
    "     <center><img src=\"./img/eval.png\" width=\"400\"/> </center>\n",
    "</div>\n",
    " \n",
    "\n"
>>>>>>> 4f0ba1780ec8fca14a6dc8c1dfd80d3a6d92beed
   ]
  },
  {
   "cell_type": "markdown",
   "metadata": {},
   "source": [
    "## **3. Our Simplified Implementation**"
   ]
  },
  {
   "attachments": {},
   "cell_type": "markdown",
   "metadata": {},
   "source": [
    "We implemented a very basic version of YOLO called *YOLO-Basic* that can perform a simpler task than the original YOLO due to computing and time constraints. \n",
    "\n",
    "In order to speed up the YOLO training pipeline we made three significant changes. Firstly, we used synthetically genereated images of 5 different shapes (X, Circle, Square, Rectangle, Star. This helped remove background noise as shapes are generated on a plain white background allowing for easier recognition. It also reduced the dimensionality of the output because there were less catagories to predict. Secondly we reduce the size of the final output grid from 7x7 to 3x3 to greatly reduce the amount of predictions the model makes each minibatch. To that end we also have each grid cell only predict a single bounding box. These two changes combined greatly simplify our output as we have gone from a 7x7x(20 + 2\\*5) = 1470 parameter output shape to a 3x3x(5 + 1\\*5) = 90 parameter output shape. This reduction of dimentionality allows for out last significant change which was simplifying the network. We removed several convolutional layers and greatly reduced the kernel size at each layer to 32, down from some kernel sizes over 1000. Lastly, we provide the images as 112x112 images to simplify the input; without background noise sharper images are not needed for identification.\n",
    "\n",
    "Below we explain the simplification we did in more detail and provide a easily runnable set of code cells to run *YOLO-Basic* from start to finish. These code cells mostly import functions from other python files that we wrote so if you are concerned with implementation details you should view the other .py files in this repo."
   ]
  },
  {
   "cell_type": "code",
   "execution_count": 1,
   "metadata": {},
   "outputs": [],
   "source": [
    "### IMPORTS \n",
    "\n",
    "import torch\n",
    "import os\n",
    "import random\n",
    "from IPython.display import HTML"
   ]
  },
  {
   "cell_type": "code",
   "execution_count": 2,
   "metadata": {},
   "outputs": [],
   "source": [
    "### CONSTANTS\n",
    "\n",
    "DATA_DIR = \"DEMO\"\n",
    "TRAIN_SIZE = 100\n",
    "TEST_SIZE = 10\n",
    "PRETRAINED_PARAMS = \"ld_inter_pre.pt\" #TODO CHANGE\n",
    "YOLO_PARAMS = \"ld_yolo_inter.pt\" #TODO CHANGE\n",
    "CATAGORIES = ['O', 'Pent', 'Square', 'Star', 'X']"
   ]
  },
  {
   "attachments": {},
   "cell_type": "markdown",
   "metadata": {},
   "source": [
    "#### **Data and Generation (MATT)**\n",
    "\n",
    "As noted in the introduction we used synthetically generated data to train and test our *YOLO-Basic* model. To generate the images we used the python PIL library. We wrote 5 different functions that each generated a shape of random size in a random position on the screen. Each shape had an associated bounding box that completely surrounded the shape plus a small adjustment factor. Shapes were generated to be of reasonable size (between 1/8 and 1/2 of the image) and such that the entire shape was contained in the frame of the image. Example images can be seen after generating the data by running the corrisponding cell. \n",
    "\n",
    "To simulate the training proceedure of YOLO, the pretraining set is a different set of images than the YOLO training set. The images are generated as detailed above with 1000 images of each shape for training and 100 images of each shape for validation. These images were no longer used after the pretraining was completed.\n",
    "\n",
    "To generate the YOLO training and testing data, 10,000 images of each shape were generated to use as a training set for a total of 50,000 training images; 100 images of each shape were generated as a validation set to monitor the accuracy. With each image that was created an entry was also created into the data.json file for a given data directory. Eeach entry contains the shape label, the path to the image file, the partition (train / test) and the bounding box. The data loader can then use this json file to read in the data for training and testing. A preview of this json can be seen by running the corrisponding cell below.\n",
    "\n",
    "Note: while multiple shape generation is possible given our functions we only generated images with a single shape for training and testing for simplicity and time sake; however in theory *YOLO-Basic* could still recognize mulitple shapes in a single image.  \n",
    "\n",
    "To generate and visualize the data run the cells below!\n"
   ]
  },
  {
   "cell_type": "code",
   "execution_count": 3,
   "metadata": {},
   "outputs": [
    {
     "name": "stdout",
     "output_type": "stream",
     "text": [
      "ERROR: Data Directory DEMO already exists\n",
      "if you would like to continue run rm -r DEMO in your terminal\n"
     ]
    }
   ],
   "source": [
    "# DATA GENERATION\n",
    "from generate_data import generate_data\n",
    "\n",
    "generate_data(DATA_DIR, TRAIN_SIZE, TEST_SIZE)\n"
   ]
  },
  {
   "cell_type": "code",
   "execution_count": 3,
   "metadata": {},
   "outputs": [
    {
     "data": {
      "text/html": [
       "<div style=\"width: 100%;\"><img src=\"DEMO/train/Square/28.png\" style=\"width: 18%; margin: 10px; float: left;\" /><img src=\"DEMO/train/O/28.png\" style=\"width: 18%; margin: 10px; float: left;\" /><img src=\"DEMO/train/Star/28.png\" style=\"width: 18%; margin: 10px; float: left;\" /><img src=\"DEMO/train/Pent/28.png\" style=\"width: 18%; margin: 10px; float: left;\" /><img src=\"DEMO/train/X/28.png\" style=\"width: 18%; margin: 10px; float: left;\" /></div>"
      ],
      "text/plain": [
       "<IPython.core.display.HTML object>"
      ]
     },
     "execution_count": 3,
     "metadata": {},
     "output_type": "execute_result"
    }
   ],
   "source": [
    "### DISPLAY GENERATED IMAGES\n",
    "\n",
    "num = random.randint(0, TRAIN_SIZE)\n",
    "image_paths = [os.path.join(DATA_DIR, \"train\", x, str(num) + \".png\") for x in os.listdir(os.path.join(DATA_DIR, \"train\"))]\n",
    "\n",
    "images_html = ''.join(f'<img src=\"{path}\" style=\"width: 18%; margin: 10px; float: left;\" />' for path in image_paths)\n",
    "\n",
    "html_content = f'<div style=\"width: 100%;\">{images_html}</div>'\n",
    "\n",
    "HTML(html_content)"
   ]
  },
  {
   "cell_type": "code",
   "execution_count": 4,
   "metadata": {},
   "outputs": [
    {
     "name": "stdout",
     "output_type": "stream",
     "text": [
      "[\n",
      "{\n",
      "\"label\": \"X\",\n",
      "\"filename\": \"DEMO/train/X/0.png\",\n",
      "\"partition\": \"train\",\n",
      "\"box\": \"1,0.58875,0.80875,0.1025,0.1025\"\n",
      "},\n",
      "{\n",
      "\"label\": \"X\",\n",
      "\"filename\": \"DEMO/train/X/1.png\",\n",
      "\"partition\": \"train\",\n",
      "\"box\": \"1,0.78875,0.34625,0.2775,0.2775\"\n",
      "},\n",
      "{\n",
      "\"label\": \"X\",\n",
      "\"filename\": \"DEMO/train/X/2.png\",\n",
      "\"partition\": \"train\",\n",
      "\"box\": \"1,0.7325,0.63,0.105,0.105\"\n",
      "},\n"
     ]
    }
   ],
   "source": [
    "### DISPLAY JSON DATA\n",
    "\n",
    "# json data stores ground truth data associated with the images.\n",
    "def display_file_head(file_path, num_lines=19):\n",
    "    with open(file_path, 'r') as file:\n",
    "        for _ in range(num_lines):\n",
    "            line = file.readline()\n",
    "            if not line:\n",
    "                break\n",
    "            print(line.strip())\n",
    "\n",
    "file_path = os.path.join(DATA_DIR, \"data.json\")\n",
    "display_file_head(file_path)"
   ]
  },
  {
   "attachments": {},
   "cell_type": "markdown",
   "metadata": {},
   "source": [
    "#### **Architecture and Training(MATT)**\n",
    "\n",
    "Overall, as mentioned in the intro, to fit our computational and time constraints, we greatly reduced the complexity of the models. We reduced the number of pretraining convolutional layers from 20 to 8 and the number of kernel all down to 32. We use the same amount of max pooling layer and layers with stride > 1 in order to reduce to the same grid size; however we add one extra maxpool layer at the end of the pretrain model to reduce what will become the grid size in yolo training to 3x3. \n",
    "\n",
    "For yolo training we add 4 new untrained layers as the paper suggests; however our total is sill 12 layers vs 24 layers. Furthermore, as in pretraining the number of kernels are all 32 down from 1024. \n",
    "\n",
    "For both pretraining and yolo training we use Leaky ReLU as our activation function with parameter 0.1 as described in the paper. We also implement a dropout layer with p = 0.5 between our fully connected layers as described by the paper. \n",
    "\n",
    "For training we used minibatch gradient decent with a batch size of 32 for both pretraining and yolo training. Pretraining was able to quickly converge to perfect accuracy on both the training and test set and stopped training early around 5 epochs. YOLO training ran for [TODO] epochs before it converged. We used the ADAM optimizer for our decent with learning rate of 0.001 and the default ADAM parameters.\n",
    "\n",
    "To build and train the model run the cells below!"
   ]
  },
  {
   "cell_type": "code",
   "execution_count": 5,
   "metadata": {},
   "outputs": [
    {
     "name": "stdout",
     "output_type": "stream",
     "text": [
      "Pretrain Layers:\n",
      "Sequential(\n",
      "  (conv0): ConvLayer()\n",
      "  (l_relu1): Leaky_ReLU()\n",
      "  (conv2): ConvLayer()\n",
      "  (l_relu3): Leaky_ReLU()\n",
      "  (conv4): ConvLayer()\n",
      "  (l_relu5): Leaky_ReLU()\n",
      "  (conv6): ConvLayer()\n",
      "  (l_relu7): Leaky_ReLU()\n",
      "  (pool8): MaxPool()\n",
      "  (conv9): ConvLayer()\n",
      "  (l_relu10): Leaky_ReLU()\n",
      "  (conv11): ConvLayer()\n",
      "  (l_relu12): Leaky_ReLU()\n",
      "  (pool13): MaxPool()\n",
      "  (conv14): ConvLayer()\n",
      "  (l_relu15): Leaky_ReLU()\n",
      "  (conv16): ConvLayer()\n",
      "  (l_relu17): Leaky_ReLU()\n",
      "  (pool18): MaxPool()\n",
      "  (flatten19): Flatten()\n",
      "  (dense20): Dense()\n",
      "  (l_relu21): Leaky_ReLU()\n",
      "  (drop22): Dropout()\n",
      "  (dense23): Dense()\n",
      ")\n"
     ]
    }
   ],
   "source": [
    "### creating the pretraining model\n",
    "from specs import pretrain_specs\n",
    "from model import build_net\n",
    "\n",
    "print(\"Pretrain Layers:\")\n",
    "pretrain_arch = build_net(pretrain_specs)\n",
    "print(pretrain_arch)"
   ]
  },
  {
   "cell_type": "code",
   "execution_count": null,
   "metadata": {},
   "outputs": [],
   "source": [
    "### training the pretrained model\n",
    "from train import pretrain\n",
    "\n",
    "pretrain(os.path.join(DATA_DIR, \"data.json\"), PRETRAINED_PARAMS, None)\n"
   ]
  },
  {
   "cell_type": "code",
   "execution_count": 6,
   "metadata": {},
   "outputs": [
    {
     "name": "stdout",
     "output_type": "stream",
     "text": [
      "YOLO Layers:\n",
      "Sequential(\n",
      "  (0): ConvLayer()\n",
      "  (1): Leaky_ReLU()\n",
      "  (2): ConvLayer()\n",
      "  (3): Leaky_ReLU()\n",
      "  (4): ConvLayer()\n",
      "  (5): Leaky_ReLU()\n",
      "  (6): ConvLayer()\n",
      "  (7): Leaky_ReLU()\n",
      "  (8): MaxPool()\n",
      "  (9): ConvLayer()\n",
      "  (10): Leaky_ReLU()\n",
      "  (11): ConvLayer()\n",
      "  (12): Leaky_ReLU()\n",
      "  (13): MaxPool()\n",
      "  (14): ConvLayer()\n",
      "  (15): Leaky_ReLU()\n",
      "  (16): ConvLayer()\n",
      "  (17): Leaky_ReLU()\n",
      "  (18): MaxPool()\n",
      "  (19): ConvLayer()\n",
      "  (20): Leaky_ReLU()\n",
      "  (21): ConvLayer()\n",
      "  (22): Leaky_ReLU()\n",
      "  (23): ConvLayer()\n",
      "  (24): Leaky_ReLU()\n",
      "  (25): ConvLayer()\n",
      "  (26): Leaky_ReLU()\n",
      "  (27): Flatten()\n",
      "  (28): Dense()\n",
      "  (29): Leaky_ReLU()\n",
      "  (30): Dropout()\n",
      "  (31): Dense()\n",
      ")\n"
     ]
    }
   ],
   "source": [
    "### Build YOLO model with pretrained parameters\n",
    "from specs import pretrain_specs, additional_yolo_specs\n",
    "from model import build_yolo_net\n",
    "\n",
    "print(\"YOLO Layers:\")\n",
    "yolo_arch = build_yolo_net(pretrain_specs, additional_yolo_specs, PRETRAINED_PARAMS)\n",
    "print(yolo_arch)"
   ]
  },
  {
   "cell_type": "code",
   "execution_count": null,
   "metadata": {},
   "outputs": [],
   "source": [
    "from train import train\n",
    "\n",
    "train(os.path.join(DATA_DIR, \"data.json\"), YOLO_PARAMS, None)"
   ]
  },
  {
   "cell_type": "code",
   "execution_count": 7,
   "metadata": {},
   "outputs": [
    {
     "data": {
      "text/plain": [
       "<All keys matched successfully>"
      ]
     },
     "execution_count": 7,
     "metadata": {},
     "output_type": "execute_result"
    }
   ],
   "source": [
    "### Get trained YOLO model\n",
    "\n",
    "yolo_model = yolo_arch\n",
    "yolo_model.load_state_dict(torch.load(YOLO_PARAMS))\n"
   ]
  },
  {
   "cell_type": "code",
   "execution_count": 13,
   "metadata": {},
   "outputs": [
    {
     "name": "stdout",
     "output_type": "stream",
     "text": [
      "Compute Time: 0.010436058044433594\n",
      "Confidence: tensor(0.0479, grad_fn=<SelectBackward0>)\n",
      "Prediction: Star\n",
      "Confidence: tensor(0.0178, grad_fn=<SelectBackward0>)\n",
      "Prediction: Star\n",
      "Confidence: tensor(0.0945, grad_fn=<SelectBackward0>)\n",
      "Prediction: Star\n",
      "Confidence: tensor(0.1277, grad_fn=<SelectBackward0>)\n",
      "Prediction: Star\n",
      "Confidence: tensor(0.1817, grad_fn=<SelectBackward0>)\n",
      "Prediction: Star\n",
      "Confidence: tensor(0.0868, grad_fn=<SelectBackward0>)\n",
      "Prediction: Star\n",
      "Confidence: tensor(0.1783, grad_fn=<SelectBackward0>)\n",
      "Prediction: Star\n",
      "Confidence: tensor(0.0110, grad_fn=<SelectBackward0>)\n",
      "Prediction: Star\n"
     ]
    },
    {
     "data": {
      "image/jpeg": "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",
      "image/png": "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",
      "text/plain": [
       "<PIL.PngImagePlugin.PngImageFile image mode=RGB size=400x400>"
      ]
     },
     "metadata": {},
     "output_type": "display_data"
    }
   ],
   "source": [
    "### PREDICT\n",
    "\n",
    "from boxey import id\n",
    "\n",
    "IMAGE_TO_PREDICT = f'{CATAGORIES[random.randint(0,4)]}/{random.randint(0,9)}.png'\n",
    "\n",
    "# IMAGE_TO_PREDICT = \"O/6.png\"\n",
    "\n",
    "predicted = id(os.path.join(DATA_DIR, \"test\"), IMAGE_TO_PREDICT, yolo_model, CATAGORIES, jupyter=True)\n",
    "\n",
    "display(predicted)"
   ]
  },
  {
   "attachments": {},
   "cell_type": "markdown",
   "metadata": {},
   "source": [
    "#### **Loss (SAM)**\n",
    "\n",
    "text\n",
    "talk about pretrian loss too\n",
    "\n",
    "maybe move up"
   ]
  },
  {
   "cell_type": "code",
   "execution_count": null,
   "metadata": {},
   "outputs": [],
   "source": [
    "#TODO"
   ]
  },
  {
   "attachments": {},
   "cell_type": "markdown",
   "metadata": {},
   "source": [
    "#### **Evaluation (MATT)**\n",
    "\n",
    "For the pretraining data (an image recognition task) we used accuracy as our evaluation metric. For each element in our validation set we checked if the model predicted the right catagory and divide by the number of elements in our validation set. \n",
    "\n",
    "For the yolo proceedure evaluate, as described above is much more complicated. Due to time constraints we did not implement the mAP metric as described above; however, since this is a task in object recognition, it is possible to emperically evaluate our model. Furthermore, since we are minimizing the loss not the evaluation it doesn't effect our models ability to train. We would love to implement mAP as future work. "
   ]
  },
  {
   "attachments": {},
   "cell_type": "markdown",
   "metadata": {},
   "source": [
    "### CONCLUSION"
   ]
  }
 ],
 "metadata": {
  "kernelspec": {
   "display_name": "cs381-env",
   "language": "python",
   "name": "python3"
  },
  "language_info": {
   "codemirror_mode": {
    "name": "ipython",
    "version": 3
   },
   "file_extension": ".py",
   "mimetype": "text/x-python",
   "name": "python",
   "nbconvert_exporter": "python",
   "pygments_lexer": "ipython3",
   "version": "3.11.7"
  },
  "vscode": {
   "interpreter": {
    "hash": "dc9c9e83a093b6b0dd176823cc457251ceee68774a0e93274abd6cb0b10c9ee3"
   }
  }
 },
 "nbformat": 4,
 "nbformat_minor": 2
}
